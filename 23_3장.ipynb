{
  "nbformat": 4,
  "nbformat_minor": 0,
  "metadata": {
    "colab": {
      "provenance": [],
      "mount_file_id": "1qcARGfHGBf9OOM7RnyGLpM8caIpgvvBs",
      "authorship_tag": "ABX9TyPyaZbVv4xRPXz8gjZa4R7d",
      "include_colab_link": true
    },
    "kernelspec": {
      "name": "python3",
      "display_name": "Python 3"
    },
    "language_info": {
      "name": "python"
    }
  },
  "cells": [
    {
      "cell_type": "markdown",
      "metadata": {
        "id": "view-in-github",
        "colab_type": "text"
      },
      "source": [
        "<a href=\"https://colab.research.google.com/github/seihoon0111/rcs/blob/main/23_3%EC%9E%A5.ipynb\" target=\"_parent\"><img src=\"https://colab.research.google.com/assets/colab-badge.svg\" alt=\"Open In Colab\"/></a>"
      ]
    },
    {
      "cell_type": "markdown",
      "source": [
        "CF 알고리즘 (협업 필터링)\n"
      ],
      "metadata": {
        "id": "TFFH9oJsEaZ6"
      }
    },
    {
      "cell_type": "code",
      "execution_count": null,
      "metadata": {
        "id": "MNxI1M5UCIxQ"
      },
      "outputs": [],
      "source": [
        "import os\n",
        "import pandas as pd\n",
        "import numpy as np\n",
        "from sklearn.model_selection import train_test_split\n",
        "\n",
        "base_src = \"drive/MyDrive/recosys/data\"\n",
        "u_user_src = os.path.join(base_src, 'u.user')\n",
        "u_cols = ['user_id','age','sex','occupation','zip_code']\n",
        "\n",
        "users = pd.read_csv(u_user_src,\n",
        "                    sep = '|',\n",
        "                    names = u_cols,\n",
        "                    encoding = 'latin_1')\n",
        "users = users.set_index('user_id')\n",
        "\n",
        "u_item_src = os.path.join(base_src,'u.item')\n",
        "\n",
        "i_cols = ['movie_id','title','release date','video release data',\n",
        "          'IMDB URL','unknown','Action','Adventure','Animation',\n",
        "          'Children\\'s','Comedy','Crime','Documentary','Drama','Fantasy',\n",
        "          'Film-Noir','Horror','Musical','Mystery','Romance','Sci-Fi','Thriller','War','Western']\n",
        "\n",
        "movies = pd.read_csv(u_item_src,\n",
        "                     sep ='|',\n",
        "                     names = i_cols,\n",
        "                     encoding = 'latin-1')\n",
        "movies = movies.set_index('movie_id')\n",
        "\n",
        "u_data_src = os.path.join(base_src,'u.data')\n",
        "\n",
        "r_cols = ['user_id','movie_id','rating','timestamp']\n",
        "ratings = pd.read_csv(u_data_src,\n",
        "                      sep ='\\t',\n",
        "                      names = r_cols,\n",
        "                      encoding='latin-1')\n",
        "\n",
        "x= ratings.copy()\n",
        "y= ratings['user_id']\n",
        "\n",
        "x_train,x_test,y_train,y_test = train_test_split(x,y,\n",
        "                                                 test_size=0.25,\n",
        "                                                 stratify = y)\n",
        "\n",
        "ratings_matrix = x_train.pivot(index='user_id',columns='movie_id',values='rating')\n",
        "\n",
        "def RMSE(y_true,y_pred):\n",
        "  return np.sqrt(np.mean((np.array(y_true)-np.array(y_pred))**2))\n",
        "\n",
        "def score(model,neighbor = 0):\n",
        "  id_pair = zip(x_test['user_id'],x_test['movie_id'])\n",
        "  y_pred = np.array([model(user,movie,neighbor) for (user,movie) in id_pair])\n",
        "  y_true = np.array(x_test['rating'])\n",
        "  return RMSE(y_true,y_pred)"
      ]
    },
    {
      "cell_type": "markdown",
      "source": [
        "cos similarity CF simple"
      ],
      "metadata": {
        "id": "KDtVnwphFbpB"
      }
    },
    {
      "cell_type": "code",
      "source": [
        "ratings_matrix = x_train.pivot(index='user_id',columns='movie_id',values='rating')\n",
        "from sklearn.metrics.pairwise import cosine_similarity\n",
        "\n",
        "matrix_dummy = ratings_matrix.copy().fillna(0)\n",
        "user_similarity = cosine_similarity(matrix_dummy,matrix_dummy)\n",
        "user_similarity = pd.DataFrame(user_similarity, index = ratings_matrix.index, columns = ratings_matrix.index)\n",
        "\n",
        "def CF_simple(user_id,movie_id,neighbor):\n",
        "  if movie_id in ratings_matrix.columns:\n",
        "    sim_score = user_similarity[user_id].copy()\n",
        "    movie_ratings = ratings_matrix[movie_id].copy()\n",
        "    none_rating_idx = movie_ratings[movie_ratings.isnull()].index\n",
        "    movie_ratings = movie_ratings.dropna()\n",
        "    sim_score = sim_score.drop(none_rating_idx)\n",
        "    if np.sum(sim_score) != 0:\n",
        "      cf_score = np.dot(sim_score, movie_ratings)/np.sum(sim_score)\n",
        "    else:\n",
        "      cf_score = 3.0\n",
        "  else:\n",
        "    cf_score = 3.0\n",
        "\n",
        "  return cf_score\n",
        "\n",
        "score(CF_simple)"
      ],
      "metadata": {
        "colab": {
          "base_uri": "https://localhost:8080/"
        },
        "id": "47TD8z3XFbaY",
        "outputId": "b4efe4ff-d21b-468d-aefd-fcbf6a6063a0"
      },
      "execution_count": null,
      "outputs": [
        {
          "output_type": "execute_result",
          "data": {
            "text/plain": [
              "1.0178571307169724"
            ]
          },
          "metadata": {},
          "execution_count": 3
        }
      ]
    },
    {
      "cell_type": "markdown",
      "source": [
        "CF neighbor (KNN)"
      ],
      "metadata": {
        "id": "WX5M0ai7a-sM"
      }
    },
    {
      "cell_type": "code",
      "source": [
        "ratings_matrix = x_train.pivot(index='user_id',columns='movie_id',values='rating')\n",
        "matrix_dummy = ratings_matrix.copy().fillna(0)\n",
        "user_similarity = cosine_similarity(matrix_dummy,matrix_dummy)\n",
        "user_similarity = pd.DataFrame(user_similarity, index = ratings_matrix.index, columns = ratings_matrix.index)\n",
        "\n",
        "def CF_KNN(user_id, movie_id, neighbor):\n",
        "  if neighbor==0:\n",
        "    return CF_simple(user_id,movie_id,neighbor)\n",
        "  else:\n",
        "    if movie_id in ratings_matrix.columns:\n",
        "      sim_scores = user_similarity[user_id].copy()\n",
        "      movie_ratings = ratings_matrix[movie_id].copy()\n",
        "      none_rating_idx = movie_ratings[movie_ratings.isnull()].index\n",
        "      movie_ratings = movie_ratings.dropna()\n",
        "      sim_scores = sim_scores.drop(none_rating_idx)\n",
        "      if len(sim_scores)>1:\n",
        "        neighbor_size = min(neighbor,len(sim_scores))\n",
        "        sim_scores = np.array(sim_scores)\n",
        "        movie_ratings = np.array(movie_ratings)\n",
        "        user_idx = np.argsort(sim_scores)\n",
        "        sim_scores = sim_scores[user_idx][-neighbor_size:]\n",
        "        movie_ratings = movie_ratings[user_idx][-neighbor_size:]\n",
        "        mean_rating = np.dot(sim_scores,movie_ratings)/np.sum(sim_scores)\n",
        "      else:\n",
        "        mean_rating = 3.0\n",
        "    else:\n",
        "      mean_rating = 3.0\n",
        "    return mean_rating\n",
        "for neighbor in [10,20,30,40,50,60]:\n",
        "  m = score(CF_KNN,neighbor)\n",
        "  n = neighbor\n",
        "  print(\"%.4f %d\"%(m,n))\n",
        "\n",
        "\n",
        "score(CF_KNN,neighbor = 30)"
      ],
      "metadata": {
        "id": "JAF-My7CYPT7",
        "colab": {
          "base_uri": "https://localhost:8080/"
        },
        "outputId": "8194be58-3b88-43f2-9bf6-1ea6283e7a3e"
      },
      "execution_count": null,
      "outputs": [
        {
          "output_type": "stream",
          "name": "stdout",
          "text": [
            "1.0244 10\n",
            "1.0114 20\n",
            "1.0092 30\n",
            "1.0088 40\n",
            "1.0100 50\n",
            "1.0106 60\n"
          ]
        },
        {
          "output_type": "execute_result",
          "data": {
            "text/plain": [
              "1.0092371183654256"
            ]
          },
          "metadata": {},
          "execution_count": 4
        }
      ]
    },
    {
      "cell_type": "markdown",
      "source": [
        "real model recommendation"
      ],
      "metadata": {
        "id": "BTxUKRL8lISZ"
      }
    },
    {
      "cell_type": "code",
      "source": [
        "ratings_matrix = x.pivot(index='user_id',columns='movie_id',values='rating')\n",
        "matrix_dummy = ratings_matrix.copy().fillna(0)\n",
        "user_similarity = cosine_similarity(matrix_dummy,matrix_dummy)\n",
        "user_similarity = pd.DataFrame(user_similarity, index = ratings_matrix.index, columns = ratings_matrix.index)\n",
        "\n",
        "\n",
        "def recom_movie(user_id,n_items,neighbor = 30):\n",
        "  user_movie = ratings_matrix.loc[user_id].copy()\n",
        "  for movie_id in ratings_matrix.columns:\n",
        "    if pd.notnull(user_movie.loc[movie_id]):\n",
        "      user_movie.loc[movie_id] = 0\n",
        "    else:\n",
        "      user_movie.loc[movie_id] = CF_KNN(user_id,movie_id,neighbor)\n",
        "  movie_sort = user_movie.sort_values(ascending = False)[:n_items]\n",
        "  recom_movies = movies.loc[movie_sort.index]\n",
        "  recommendation = recom_movies['title']\n",
        "  return recommendation\n",
        "\n",
        "\n",
        "recom_movie(7,5,30)\n"
      ],
      "metadata": {
        "colab": {
          "base_uri": "https://localhost:8080/"
        },
        "id": "mAkzkCEIgnx8",
        "outputId": "3b98373c-90a9-4bd1-da14-f4262253fad6"
      },
      "execution_count": null,
      "outputs": [
        {
          "output_type": "execute_result",
          "data": {
            "text/plain": [
              "movie_id\n",
              "1467    Saint of Fort Washington, The (1993)\n",
              "1189                      Prefontaine (1997)\n",
              "1293                         Star Kid (1997)\n",
              "1500               Santa with Muscles (1996)\n",
              "1463                        Boys, Les (1997)\n",
              "Name: title, dtype: object"
            ]
          },
          "metadata": {},
          "execution_count": 5
        }
      ]
    },
    {
      "cell_type": "code",
      "source": [],
      "metadata": {
        "id": "Xv1rDrYUmvME"
      },
      "execution_count": null,
      "outputs": []
    }
  ]
}