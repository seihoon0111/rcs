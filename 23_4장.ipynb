{
  "nbformat": 4,
  "nbformat_minor": 0,
  "metadata": {
    "colab": {
      "provenance": [],
      "mount_file_id": "1Qd7DiSZSa3r0Is4jwTmZamAWLirdpP_G",
      "authorship_tag": "ABX9TyMa0fu0pgQrSnhEHGzPDbPx",
      "include_colab_link": true
    },
    "kernelspec": {
      "name": "python3",
      "display_name": "Python 3"
    },
    "language_info": {
      "name": "python"
    }
  },
  "cells": [
    {
      "cell_type": "markdown",
      "metadata": {
        "id": "view-in-github",
        "colab_type": "text"
      },
      "source": [
        "<a href=\"https://colab.research.google.com/github/seihoon0111/rcs/blob/main/23_4%EC%9E%A5.ipynb\" target=\"_parent\"><img src=\"https://colab.research.google.com/assets/colab-badge.svg\" alt=\"Open In Colab\"/></a>"
      ]
    },
    {
      "cell_type": "code",
      "execution_count": null,
      "metadata": {
        "id": "UaQJDHTQ9udO"
      },
      "outputs": [],
      "source": [
        "import os\n",
        "import pandas as pd\n",
        "import numpy as np\n",
        "\n",
        "base_src = \"drive/MyDrive/recosys/data\"\n",
        "\n",
        "u_data_src = os.path.join(base_src,'u.data')\n",
        "\n",
        "r_cols = ['user_id','movie_id','rating','timestamp']\n",
        "ratings = pd.read_csv(u_data_src,\n",
        "                      sep ='\\t',\n",
        "                      names = r_cols,\n",
        "                      encoding='latin-1')\n",
        "\n",
        "ratings = ratings[['user_id','movie_id','rating']].astype(int)"
      ]
    },
    {
      "cell_type": "code",
      "source": [
        "class MF():\n",
        "  def __init__(self,ratings,hyper_params):\n",
        "    self.R = np.array(ratings)\n",
        "    self.num_users,self.num_items = np.shape(self.R)\n",
        "    self.K = hyper_params['K']\n",
        "    self.alpha = hyper_params['alpha']\n",
        "    self.beta = hyper_params['beta']\n",
        "    self.iterations = hyper_params['iterations']\n",
        "    self.verbose = hyper_params['verbose']\n",
        "\n",
        "  def rmse(self):\n",
        "    xs,ys = self.R.nonzero()\n",
        "    self.predictions = []\n",
        "    self.errors =[]\n",
        "\n",
        "    for x,y in zip(xs,ys):\n",
        "      prediction = self.get_prediction(x,y)\n",
        "      self.predictions.append(prediction)\n",
        "      self.errors.append(prediction - self.R[x,y])\n",
        "    self.predictions = np.array(self.predictions)\n",
        "    self.errors = np.array(self.errors)\n",
        "\n",
        "    return np.sqrt(np.mean(self.errors**2))\n",
        "\n",
        "  def train(self):\n",
        "    self.P = np.random.normal(scale=1./self.K,\n",
        "                              size=(self.num_users,self.K))\n",
        "    self.Q = np.random.normal(scale=1./self.K,\n",
        "                              size=(self.num_items,self.K))\n",
        "\n",
        "    self.b_u = np.zeros(self.num_users)\n",
        "    self.b_d = np.zeros(self.num_items)\n",
        "    self.b = np.mean(self.R[self.R.nonzero()])\n",
        "\n",
        "    rows,columns = self.R.nonzero()\n",
        "    self.samples = [(i,j,self.R[i,j]) for i,j in zip(rows,columns)]\n",
        "\n",
        "    training_process = []\n",
        "    for i in range(self.iterations):\n",
        "      np.random.shuffle(self.samples)\n",
        "      self.sgd()\n",
        "      rmse = self.rmse()\n",
        "      training_process.append((i+1,rmse))\n",
        "      if self.verbose:\n",
        "        if (i+1) % 10 ==0:\n",
        "          print('Iteration : %d; train RMSE = %.4f'%(i+1,rmse))\n",
        "    return training_process\n",
        "\n",
        "  def get_prediction(self,i,j):\n",
        "    prediction = self.b + self.b_u[i] + self.b_d[j] + self.P[i,:].dot(self.Q[j,:].T)\n",
        "    return prediction\n",
        "\n",
        "  def sgd(self):\n",
        "    for i,j,r in self.samples:\n",
        "      prediction = self.get_prediction(i,j)\n",
        "      e = (r-prediction)\n",
        "\n",
        "      self.b_u[i] += self.alpha * ( e - self.beta * self.b_u[i] )\n",
        "      self.b_d[j] += self.alpha * ( e - self.beta * self.b_d[j] )\n",
        "\n",
        "      self.P[i,:] += self.alpha * (( e * self.Q[j,:]) - (self.beta * self.P[i,:]))\n",
        "      self.Q[j,:] += self.alpha * (( e * self.P[i,:]) - (self.beta * self.Q[j,:]))\n",
        "\n",
        "\n",
        "\n"
      ],
      "metadata": {
        "id": "_waD0PBq-Yf-"
      },
      "execution_count": null,
      "outputs": []
    },
    {
      "cell_type": "code",
      "source": [
        "R_temp = ratings.pivot(index='user_id',\n",
        "                       columns='movie_id',\n",
        "                       values='rating').fillna(0)\n",
        "\n",
        "hyper_params = {\n",
        "    'K' : 30,\n",
        "    'alpha' : 0.001,\n",
        "    'beta' : 0.02,\n",
        "    'iterations' : 100,\n",
        "    'verbose' : True,\n",
        "}\n"
      ],
      "metadata": {
        "id": "ngdBYUys_WmZ"
      },
      "execution_count": null,
      "outputs": []
    },
    {
      "cell_type": "code",
      "source": [
        "mf = MF(R_temp,hyper_params)\n",
        "\n",
        "train_process = mf.train()"
      ],
      "metadata": {
        "id": "osx_eMNc_lie",
        "colab": {
          "base_uri": "https://localhost:8080/"
        },
        "outputId": "70d72a6a-a62b-47e9-a838-89203f559031"
      },
      "execution_count": null,
      "outputs": [
        {
          "output_type": "stream",
          "name": "stdout",
          "text": [
            "Iteration : 10; train RMSE = 0.9585\n",
            "Iteration : 20; train RMSE = 0.9374\n",
            "Iteration : 30; train RMSE = 0.9281\n",
            "Iteration : 40; train RMSE = 0.9226\n",
            "Iteration : 50; train RMSE = 0.9186\n",
            "Iteration : 60; train RMSE = 0.9148\n",
            "Iteration : 70; train RMSE = 0.9105\n",
            "Iteration : 80; train RMSE = 0.9046\n",
            "Iteration : 90; train RMSE = 0.8963\n",
            "Iteration : 100; train RMSE = 0.8848\n"
          ]
        }
      ]
    },
    {
      "cell_type": "code",
      "source": [],
      "metadata": {
        "id": "sjqLTBOrtVXL"
      },
      "execution_count": null,
      "outputs": []
    }
  ]
}