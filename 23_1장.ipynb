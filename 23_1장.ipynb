{
  "nbformat": 4,
  "nbformat_minor": 0,
  "metadata": {
    "colab": {
      "provenance": [],
      "toc_visible": true,
      "authorship_tag": "ABX9TyM0TKyEcPnTtZxgRV9e3dfT",
      "include_colab_link": true
    },
    "kernelspec": {
      "name": "python3",
      "display_name": "Python 3"
    },
    "language_info": {
      "name": "python"
    }
  },
  "cells": [
    {
      "cell_type": "markdown",
      "metadata": {
        "id": "view-in-github",
        "colab_type": "text"
      },
      "source": [
        "<a href=\"https://colab.research.google.com/github/seihoon0111/rcs/blob/main/23_1%EC%9E%A5.ipynb\" target=\"_parent\"><img src=\"https://colab.research.google.com/assets/colab-badge.svg\" alt=\"Open In Colab\"/></a>"
      ]
    },
    {
      "cell_type": "code",
      "execution_count": null,
      "metadata": {
        "id": "ZRCyufBBYadl"
      },
      "outputs": [],
      "source": [
        "import os\n",
        "import pandas as pd\n",
        "\n",
        "base_src = \"drive/MyDrive/recosys/data\"\n",
        "u_user_src = os.path.join(base_src, 'u.user')\n",
        "u_cols = ['user_id','age','sex','occupation','zip_code']\n",
        "\n",
        "users = pd.read_csv(u_user_src,\n",
        "                    sep = '|',\n",
        "                    names = u_cols,\n",
        "                    encoding = 'latin_1')\n",
        "\n",
        "users = users.set_index('user_id')"
      ]
    },
    {
      "cell_type": "code",
      "source": [
        "u_item_src = os.path.join(base_src,'u.item')\n",
        "\n",
        "i_cols = ['movie_id','title','release date','video release data',\n",
        "          'IMDB URL','unknown','Action','Adventure','Animation',\n",
        "          'Children\\'s','Comedy','Crime','Documentary','Drama','Fantasy',\n",
        "          'Film-Noir','Horror','Musical','Mystery','Romance','Sci-Fi','Thriller','War','Western']\n",
        "\n",
        "movies = pd.read_csv(u_item_src,\n",
        "                     sep ='|',\n",
        "                     names = i_cols,\n",
        "                     encoding = 'latin-1')\n",
        "\n",
        "movies = movies.set_index('movie_id')"
      ],
      "metadata": {
        "id": "Tz1p9ozPiKII"
      },
      "execution_count": null,
      "outputs": []
    },
    {
      "cell_type": "code",
      "source": [
        "u_data_src = os.path.join(base_src,'u.data')\n",
        "\n",
        "r_cols = ['user_id','movie_id','rating','timestamp']\n",
        "ratings = pd.read_csv(u_data_src,\n",
        "                      sep ='\\t',\n",
        "                      names = r_cols,\n",
        "                      encoding='latin-1')\n",
        "ratings = ratings.set_index('user_id')"
      ],
      "metadata": {
        "id": "iiELaY93jC8Z"
      },
      "execution_count": null,
      "outputs": []
    },
    {
      "cell_type": "markdown",
      "source": [
        "인기 제품 추천 방식"
      ],
      "metadata": {
        "id": "K7bMzs4FlA4B"
      }
    },
    {
      "cell_type": "code",
      "source": [
        "def recom_movie(n_items):\n",
        "  movie_mean = ratings.groupby(['movie_id'])['rating'].mean()\n",
        "  movie_sort = movie_mean.sort_values(ascending = False)[:n_items]\n",
        "  recom_movies = movies.loc[movie_sort.index]\n",
        "  recommendations = recom_movies['title']\n",
        "  return recommendations\n"
      ],
      "metadata": {
        "id": "QnlPMFQykQuj"
      },
      "execution_count": null,
      "outputs": []
    },
    {
      "cell_type": "markdown",
      "source": [
        "RMSE"
      ],
      "metadata": {
        "id": "G45-CFtBpUND"
      }
    },
    {
      "cell_type": "code",
      "source": [
        "import numpy as np\n",
        "\n",
        "def RMSE(y_true, y_pred):\n",
        "  return np.sqrt(np.mean((np.array(y_true)-np.array(y_pred))**2))\n",
        "\n",
        "rmse=[]\n",
        "movie_mean = ratings.groupby(['movie_id'])['rating'].mean()\n",
        "\n",
        "for user in set(ratings.index):\n",
        "  u_true = ratings.loc[user]['rating']\n",
        "  u_pred = movie_mean[ratings.loc[user]['movie_id']]\n",
        "  accuracy = RMSE(u_true,u_pred)\n",
        "  rmse.append(accuracy)\n",
        "\n",
        "print(np.mean(rmse))"
      ],
      "metadata": {
        "colab": {
          "base_uri": "https://localhost:8080/"
        },
        "id": "cOh0Qtz5l1Xc",
        "outputId": "06537983-1e21-4982-94ac-a17eb0ff9239"
      },
      "execution_count": null,
      "outputs": [
        {
          "output_type": "stream",
          "name": "stdout",
          "text": [
            "0.996007224010567\n"
          ]
        }
      ]
    },
    {
      "cell_type": "code",
      "source": [],
      "metadata": {
        "id": "rCuAR6-fqeLm"
      },
      "execution_count": null,
      "outputs": []
    }
  ]
}