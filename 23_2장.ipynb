{
  "nbformat": 4,
  "nbformat_minor": 0,
  "metadata": {
    "colab": {
      "provenance": [],
      "mount_file_id": "1MXqSDHcv3-ekaTZvjUR7B224gnpUXjc8",
      "authorship_tag": "ABX9TyNTEzlABbBCIHj640feLf6E",
      "include_colab_link": true
    },
    "kernelspec": {
      "name": "python3",
      "display_name": "Python 3"
    },
    "language_info": {
      "name": "python"
    }
  },
  "cells": [
    {
      "cell_type": "markdown",
      "metadata": {
        "id": "view-in-github",
        "colab_type": "text"
      },
      "source": [
        "<a href=\"https://colab.research.google.com/github/seihoon0111/rcs/blob/main/23_2%EC%9E%A5.ipynb\" target=\"_parent\"><img src=\"https://colab.research.google.com/assets/colab-badge.svg\" alt=\"Open In Colab\"/></a>"
      ]
    },
    {
      "cell_type": "markdown",
      "source": [
        "데이터 읽기"
      ],
      "metadata": {
        "id": "DNkbXwfsykuu"
      }
    },
    {
      "cell_type": "code",
      "execution_count": null,
      "metadata": {
        "id": "EDZ-FFrTyb8e"
      },
      "outputs": [],
      "source": [
        "import os\n",
        "import pandas as pd\n",
        "import numpy as np\n",
        "\n",
        "base_src = \"drive/MyDrive/recosys/data\"\n",
        "u_user_src = os.path.join(base_src, 'u.user')\n",
        "u_cols = ['user_id','age','sex','occupation','zip_code']\n",
        "\n",
        "users = pd.read_csv(u_user_src,\n",
        "                    sep = '|',\n",
        "                    names = u_cols,\n",
        "                    encoding = 'latin_1')\n",
        "\n",
        "u_item_src = os.path.join(base_src,'u.item')\n",
        "\n",
        "i_cols = ['movie_id','title','release date','video release data',\n",
        "          'IMDB URL','unknown','Action','Adventure','Animation',\n",
        "          'Children\\'s','Comedy','Crime','Documentary','Drama','Fantasy',\n",
        "          'Film-Noir','Horror','Musical','Mystery','Romance','Sci-Fi','Thriller','War','Western']\n",
        "\n",
        "movies = pd.read_csv(u_item_src,\n",
        "                     sep ='|',\n",
        "                     names = i_cols,\n",
        "                     encoding = 'latin-1')\n",
        "\n",
        "u_data_src = os.path.join(base_src,'u.data')\n",
        "\n",
        "r_cols = ['user_id','movie_id','rating','timestamp']\n",
        "ratings = pd.read_csv(u_data_src,\n",
        "                      sep ='\\t',\n",
        "                      names = r_cols,\n",
        "                      encoding='latin-1')\n",
        "#drop timestamp\n",
        "ratings = ratings.drop('timestamp',axis=1)\n",
        "movies = movies[['movie_id','title']]"
      ]
    },
    {
      "cell_type": "code",
      "source": [
        "from sklearn.model_selection import train_test_split\n",
        "\n",
        "x= ratings.copy()\n",
        "y= ratings['user_id']\n",
        "\n",
        "x_train,x_test,y_train,y_test = train_test_split(x,y,\n",
        "                                                 test_size=0.25,\n",
        "                                                 stratify = y)\n",
        "\n",
        "def RMSE(y_true,y_pred):\n",
        "  return np.sqrt(np.mean((np.array(y_true)-np.array(y_pred))**2))"
      ],
      "metadata": {
        "id": "V7ZrRu8Ryq6O"
      },
      "execution_count": null,
      "outputs": []
    },
    {
      "cell_type": "code",
      "source": [
        "def score(model):\n",
        "  id_pair = zip(x_test['user_id'],x_test['movie_id'])\n",
        "  y_pred = np.array([model(user,movie) for (user,movie) in id_pair])\n",
        "  y_true = np.array(x_test['rating'])\n",
        "  return RMSE(y_true,y_pred)"
      ],
      "metadata": {
        "id": "SAO4CPz1ztay"
      },
      "execution_count": null,
      "outputs": []
    },
    {
      "cell_type": "markdown",
      "source": [
        "집단 추천 model"
      ],
      "metadata": {
        "id": "Npr5lYPq4mkA"
      }
    },
    {
      "cell_type": "code",
      "source": [
        "train_mean = x_train.groupby(['movie_id'])['rating'].mean()\n",
        "user_mean = x_train.groupby(['user_id'])['rating'].mean()\n",
        "def bestseller(user_id,movie_id):\n",
        "  try:\n",
        "    rating = train_mean[movie_id]\n",
        "  except:\n",
        "    rating = user_mean[user_id]\n",
        "\n",
        "  return rating\n",
        "\n",
        "score(bestseller)"
      ],
      "metadata": {
        "colab": {
          "base_uri": "https://localhost:8080/"
        },
        "id": "HmExcKBl0mTq",
        "outputId": "bed7c27c-c18c-4f19-c547-e76086e828da"
      },
      "execution_count": null,
      "outputs": [
        {
          "output_type": "execute_result",
          "data": {
            "text/plain": [
              "1.023711672070209"
            ]
          },
          "metadata": {},
          "execution_count": 5
        }
      ]
    },
    {
      "cell_type": "markdown",
      "source": [
        "성별에 따른 사용자 집단 추천방식"
      ],
      "metadata": {
        "id": "ybGuX-6H7R7Y"
      }
    },
    {
      "cell_type": "code",
      "source": [
        "train_merge = pd.merge(x_train,users)\n",
        "train_mean_s = train_merge.groupby(['movie_id','sex'])['rating'].mean()\n",
        "\n",
        "def bestseller_s(user_id,movie_id):\n",
        "  try:\n",
        "    rating = train_mean_s[movie_id,train_merge.loc[user_id]['sex']]\n",
        "  except:\n",
        "    rating = user_mean[user_id]\n",
        "  return rating\n",
        "\n",
        "score(bestseller_s)"
      ],
      "metadata": {
        "colab": {
          "base_uri": "https://localhost:8080/"
        },
        "id": "vXoG4C9J6vIT",
        "outputId": "282017d1-bbf6-4490-b36c-7ffa42b8f5be"
      },
      "execution_count": null,
      "outputs": [
        {
          "output_type": "execute_result",
          "data": {
            "text/plain": [
              "1.0302692811459468"
            ]
          },
          "metadata": {},
          "execution_count": 8
        }
      ]
    }
  ]
}